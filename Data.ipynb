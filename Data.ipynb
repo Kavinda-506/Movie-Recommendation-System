{
  "cells": [
    {
      "cell_type": "code",
      "execution_count": 1,
      "metadata": {
        "colab": {
          "base_uri": "https://localhost:8080/"
        },
        "id": "-5qb4mFrL8c0",
        "outputId": "18a6c90e-0b6d-45a3-e75f-610d03a79014"
      },
      "outputs": [
        {
          "output_type": "stream",
          "name": "stdout",
          "text": [
            "      movieId                               title  \\\n",
            "0           1                    Toy Story (1995)   \n",
            "1           2                      Jumanji (1995)   \n",
            "2           3             Grumpier Old Men (1995)   \n",
            "3           4            Waiting to Exhale (1995)   \n",
            "4           5  Father of the Bride Part II (1995)   \n",
            "...       ...                                 ...   \n",
            "3878     3948             Meet the Parents (2000)   \n",
            "3879     3949          Requiem for a Dream (2000)   \n",
            "3880     3950                    Tigerland (2000)   \n",
            "3881     3951             Two Family House (2000)   \n",
            "3882     3952               Contender, The (2000)   \n",
            "\n",
            "                            genres  \n",
            "0      Animation|Children's|Comedy  \n",
            "1     Adventure|Children's|Fantasy  \n",
            "2                   Comedy|Romance  \n",
            "3                     Comedy|Drama  \n",
            "4                           Comedy  \n",
            "...                            ...  \n",
            "3878                        Comedy  \n",
            "3879                         Drama  \n",
            "3880                         Drama  \n",
            "3881                         Drama  \n",
            "3882                Drama|Thriller  \n",
            "\n",
            "[3883 rows x 3 columns]\n",
            "Index(['movieId', 'title', 'genres'], dtype='object')\n"
          ]
        }
      ],
      "source": [
        "import pandas as pd\n",
        "df = pd.read_csv('movies.csv')\n",
        "print(df)\n",
        "print(df.columns)"
      ]
    },
    {
      "cell_type": "code",
      "source": [
        "df_1 = pd.read_csv('ratings.csv')\n",
        "print(df_1)\n",
        "print(df_1.columns)"
      ],
      "metadata": {
        "colab": {
          "base_uri": "https://localhost:8080/"
        },
        "id": "1kbJrq9jQ5i8",
        "outputId": "e95feffb-0577-46aa-d1c3-92a2b58a0642"
      },
      "execution_count": 2,
      "outputs": [
        {
          "output_type": "stream",
          "name": "stdout",
          "text": [
            "        userId  movieId  rating  timestamp\n",
            "0            1     1193       5  978300760\n",
            "1            1      661       3  978302109\n",
            "2            1      914       3  978301968\n",
            "3            1     3408       4  978300275\n",
            "4            1     2355       5  978824291\n",
            "...        ...      ...     ...        ...\n",
            "101665     677     3803       4  975611622\n",
            "101666     677     1124       3  975609833\n",
            "101667     677     2872       5  975611057\n",
            "101668     677      602       5  975611953\n",
            "101669     677     3678       5    9756110\n",
            "\n",
            "[101670 rows x 4 columns]\n",
            "Index(['userId', 'movieId', 'rating', 'timestamp'], dtype='object')\n"
          ]
        }
      ]
    },
    {
      "cell_type": "code",
      "source": [
        "df_2 = pd.read_csv('users.csv')\n",
        "print(df_2)\n",
        "print(df_2.columns)"
      ],
      "metadata": {
        "colab": {
          "base_uri": "https://localhost:8080/"
        },
        "id": "YTykniFZRDUE",
        "outputId": "ea5c95e5-d6fd-4b2d-8e10-e8f44805ac66"
      },
      "execution_count": 4,
      "outputs": [
        {
          "output_type": "stream",
          "name": "stdout",
          "text": [
            "      userId gender  age  occupation    zip\n",
            "0          1      F    1          10  48067\n",
            "1          2      M   56          16  70072\n",
            "2          3      M   25          15  55117\n",
            "3          4      M   45           7  02460\n",
            "4          5      M   25          20  55455\n",
            "...      ...    ...  ...         ...    ...\n",
            "6035    6036      F   25          15  32603\n",
            "6036    6037      F   45           1  76006\n",
            "6037    6038      F   56           1  14706\n",
            "6038    6039      F   45           0  01060\n",
            "6039    6040      M   25           6  11106\n",
            "\n",
            "[6040 rows x 5 columns]\n",
            "Index(['userId', 'gender', 'age', 'occupation', 'zip'], dtype='object')\n"
          ]
        }
      ]
    },
    {
      "cell_type": "code",
      "source": [
        "print(df.isnull().sum())\n",
        "print(df_1.isnull().sum())\n",
        "print(df_2.isnull().sum())"
      ],
      "metadata": {
        "colab": {
          "base_uri": "https://localhost:8080/"
        },
        "id": "9P1e9AXZTT0N",
        "outputId": "1ee0a323-5de8-4be3-cf24-daa78ea4670b"
      },
      "execution_count": 5,
      "outputs": [
        {
          "output_type": "stream",
          "name": "stdout",
          "text": [
            "movieId    0\n",
            "title      0\n",
            "genres     0\n",
            "dtype: int64\n",
            "userId       0\n",
            "movieId      0\n",
            "rating       0\n",
            "timestamp    0\n",
            "dtype: int64\n",
            "userId        0\n",
            "gender        0\n",
            "age           0\n",
            "occupation    0\n",
            "zip           0\n",
            "dtype: int64\n"
          ]
        }
      ]
    },
    {
      "cell_type": "code",
      "source": [
        "print(df.duplicated().sum())\n",
        "print(df_1.duplicated().sum())\n",
        "print(df_2.duplicated().sum())"
      ],
      "metadata": {
        "colab": {
          "base_uri": "https://localhost:8080/"
        },
        "id": "K3ebvAmITiXT",
        "outputId": "c96f1e43-1f7d-41fe-e488-8c9e11519940"
      },
      "execution_count": 6,
      "outputs": [
        {
          "output_type": "stream",
          "name": "stdout",
          "text": [
            "0\n",
            "0\n",
            "0\n"
          ]
        }
      ]
    },
    {
      "cell_type": "code",
      "source": [
        "# Convert timestamp to datetime format\n",
        "df_1['timestamp'] = pd.to_datetime(df_1['timestamp'], unit='s')\n",
        "\n",
        "# Check the updated format\n",
        "print(df_1[['timestamp']].head())"
      ],
      "metadata": {
        "colab": {
          "base_uri": "https://localhost:8080/"
        },
        "id": "guvclNkvTwkD",
        "outputId": "aff54317-7c40-460d-f32c-0917a8a803df"
      },
      "execution_count": 7,
      "outputs": [
        {
          "output_type": "stream",
          "name": "stdout",
          "text": [
            "            timestamp\n",
            "0 2000-12-31 22:12:40\n",
            "1 2000-12-31 22:35:09\n",
            "2 2000-12-31 22:32:48\n",
            "3 2000-12-31 22:04:35\n",
            "4 2001-01-06 23:38:11\n"
          ]
        }
      ]
    },
    {
      "cell_type": "code",
      "source": [
        "# Merge ratings with movies using movieId\n",
        "ratings_movies = pd.merge(df_1, df, on='movieId')\n",
        "\n",
        "# Display merged data\n",
        "print(ratings_movies.head())"
      ],
      "metadata": {
        "colab": {
          "base_uri": "https://localhost:8080/"
        },
        "id": "Q5xP6znBT8Op",
        "outputId": "02dda9a3-bb80-4fae-e0f3-6d5519a47882"
      },
      "execution_count": 8,
      "outputs": [
        {
          "output_type": "stream",
          "name": "stdout",
          "text": [
            "   userId  movieId  rating           timestamp  \\\n",
            "0       1     1193       5 2000-12-31 22:12:40   \n",
            "1       1      661       3 2000-12-31 22:35:09   \n",
            "2       1      914       3 2000-12-31 22:32:48   \n",
            "3       1     3408       4 2000-12-31 22:04:35   \n",
            "4       1     2355       5 2001-01-06 23:38:11   \n",
            "\n",
            "                                    title                        genres  \n",
            "0  One Flew Over the Cuckoo's Nest (1975)                         Drama  \n",
            "1        James and the Giant Peach (1996)  Animation|Children's|Musical  \n",
            "2                     My Fair Lady (1964)               Musical|Romance  \n",
            "3                  Erin Brockovich (2000)                         Drama  \n",
            "4                    Bug's Life, A (1998)   Animation|Children's|Comedy  \n"
          ]
        }
      ]
    },
    {
      "cell_type": "code",
      "source": [
        "# Merge the result with users using userId\n",
        "full_data = pd.merge(ratings_movies, df_2, on='userId')\n",
        "\n",
        "# Display final merged data\n",
        "print(full_data.head())"
      ],
      "metadata": {
        "colab": {
          "base_uri": "https://localhost:8080/"
        },
        "id": "7Xmhus5WUFaH",
        "outputId": "1d1316d6-9c4e-4a10-8930-550c5922cb93"
      },
      "execution_count": 9,
      "outputs": [
        {
          "output_type": "stream",
          "name": "stdout",
          "text": [
            "   userId  movieId  rating           timestamp  \\\n",
            "0       1     1193       5 2000-12-31 22:12:40   \n",
            "1       1      661       3 2000-12-31 22:35:09   \n",
            "2       1      914       3 2000-12-31 22:32:48   \n",
            "3       1     3408       4 2000-12-31 22:04:35   \n",
            "4       1     2355       5 2001-01-06 23:38:11   \n",
            "\n",
            "                                    title                        genres  \\\n",
            "0  One Flew Over the Cuckoo's Nest (1975)                         Drama   \n",
            "1        James and the Giant Peach (1996)  Animation|Children's|Musical   \n",
            "2                     My Fair Lady (1964)               Musical|Romance   \n",
            "3                  Erin Brockovich (2000)                         Drama   \n",
            "4                    Bug's Life, A (1998)   Animation|Children's|Comedy   \n",
            "\n",
            "  gender  age  occupation    zip  \n",
            "0      F    1          10  48067  \n",
            "1      F    1          10  48067  \n",
            "2      F    1          10  48067  \n",
            "3      F    1          10  48067  \n",
            "4      F    1          10  48067  \n"
          ]
        }
      ]
    },
    {
      "cell_type": "code",
      "source": [
        "# Extract year from the title\n",
        "full_data['year'] = full_data['title'].str.extract(r'\\((\\d{4})\\)', expand=False)\n",
        "\n",
        "# Remove the year from the title\n",
        "full_data['title'] = full_data['title'].str.replace(r'\\(\\d{4}\\)', '', regex=True).str.strip()\n",
        "\n",
        "print(full_data[['title', 'year']].head())"
      ],
      "metadata": {
        "colab": {
          "base_uri": "https://localhost:8080/"
        },
        "id": "Ghb5hEM-UYuZ",
        "outputId": "63af5b8d-0b62-4f1f-d2b6-7cafe5ccb7ed"
      },
      "execution_count": 10,
      "outputs": [
        {
          "output_type": "stream",
          "name": "stdout",
          "text": [
            "                             title  year\n",
            "0  One Flew Over the Cuckoo's Nest  1975\n",
            "1        James and the Giant Peach  1996\n",
            "2                     My Fair Lady  1964\n",
            "3                  Erin Brockovich  2000\n",
            "4                    Bug's Life, A  1998\n"
          ]
        }
      ]
    },
    {
      "cell_type": "code",
      "source": [
        "# Split genres into separate columns\n",
        "full_data['genres'] = full_data['genres'].str.split('|')\n",
        "\n",
        "# Example: Expand genres into individual columns (optional)\n",
        "genres_expanded = full_data.explode('genres')\n",
        "\n",
        "print(genres_expanded[['title', 'genres']].head())"
      ],
      "metadata": {
        "colab": {
          "base_uri": "https://localhost:8080/"
        },
        "id": "eWb5NU5ZUfe1",
        "outputId": "0a81079b-1424-436d-f564-9d1ca4e959f1"
      },
      "execution_count": 11,
      "outputs": [
        {
          "output_type": "stream",
          "name": "stdout",
          "text": [
            "                             title      genres\n",
            "0  One Flew Over the Cuckoo's Nest       Drama\n",
            "1        James and the Giant Peach   Animation\n",
            "1        James and the Giant Peach  Children's\n",
            "1        James and the Giant Peach     Musical\n",
            "2                     My Fair Lady     Musical\n"
          ]
        }
      ]
    },
    {
      "cell_type": "code",
      "source": [
        "pip install pyspark"
      ],
      "metadata": {
        "colab": {
          "base_uri": "https://localhost:8080/"
        },
        "id": "RtZsEq6EU6Yx",
        "outputId": "9210e8da-244a-4ae2-8b75-3d242417b533"
      },
      "execution_count": 12,
      "outputs": [
        {
          "output_type": "stream",
          "name": "stdout",
          "text": [
            "Requirement already satisfied: pyspark in /usr/local/lib/python3.11/dist-packages (3.5.4)\n",
            "Requirement already satisfied: py4j==0.10.9.7 in /usr/local/lib/python3.11/dist-packages (from pyspark) (0.10.9.7)\n"
          ]
        }
      ]
    },
    {
      "cell_type": "code",
      "source": [
        "from pyspark.sql import SparkSession\n",
        "\n",
        "# Create a Spark session\n",
        "spark = SparkSession.builder.appName('MovieRecommendationSystem').getOrCreate()\n",
        "\n",
        "# Load the merged dataset into Spark DataFrame\n",
        "data = spark.createDataFrame(full_data)\n",
        "data.show(5)"
      ],
      "metadata": {
        "colab": {
          "base_uri": "https://localhost:8080/"
        },
        "id": "IYJwpwWhVAtP",
        "outputId": "894e3302-377e-45e4-ea1c-21733fa0a29a"
      },
      "execution_count": 13,
      "outputs": [
        {
          "output_type": "stream",
          "name": "stdout",
          "text": [
            "+------+-------+------+-------------------+--------------------+--------------------+------+---+----------+-----+----+\n",
            "|userId|movieId|rating|          timestamp|               title|              genres|gender|age|occupation|  zip|year|\n",
            "+------+-------+------+-------------------+--------------------+--------------------+------+---+----------+-----+----+\n",
            "|     1|   1193|     5|2000-12-31 22:12:40|One Flew Over the...|             [Drama]|     F|  1|        10|48067|1975|\n",
            "|     1|    661|     3|2000-12-31 22:35:09|James and the Gia...|[Animation, Child...|     F|  1|        10|48067|1996|\n",
            "|     1|    914|     3|2000-12-31 22:32:48|        My Fair Lady|  [Musical, Romance]|     F|  1|        10|48067|1964|\n",
            "|     1|   3408|     4|2000-12-31 22:04:35|     Erin Brockovich|             [Drama]|     F|  1|        10|48067|2000|\n",
            "|     1|   2355|     5|2001-01-06 23:38:11|       Bug's Life, A|[Animation, Child...|     F|  1|        10|48067|1998|\n",
            "+------+-------+------+-------------------+--------------------+--------------------+------+---+----------+-----+----+\n",
            "only showing top 5 rows\n",
            "\n"
          ]
        }
      ]
    },
    {
      "cell_type": "code",
      "source": [
        "from pyspark.ml.recommendation import ALS\n",
        "from pyspark.ml.evaluation import RegressionEvaluator\n",
        "\n",
        "# Convert userId and movieId to integer (required by ALS)\n",
        "data = data.withColumn(\"userId\", data[\"userId\"].cast(\"integer\"))\n",
        "data = data.withColumn(\"movieId\", data[\"movieId\"].cast(\"integer\"))\n",
        "data = data.withColumn(\"rating\", data[\"rating\"].cast(\"float\"))\n",
        "\n",
        "# Split data into training and test sets\n",
        "(training, test) = data.randomSplit([0.8, 0.2])"
      ],
      "metadata": {
        "id": "kRffXcNQVT5J"
      },
      "execution_count": 14,
      "outputs": []
    },
    {
      "cell_type": "code",
      "source": [
        "# Initialize the ALS model\n",
        "als = ALS(\n",
        "    maxIter=10,\n",
        "    regParam=0.1,\n",
        "    userCol=\"userId\",\n",
        "    itemCol=\"movieId\",\n",
        "    ratingCol=\"rating\",\n",
        "    coldStartStrategy=\"drop\"  # To handle NaN predictions\n",
        ")\n",
        "\n",
        "# Fit the model\n",
        "model = als.fit(training)"
      ],
      "metadata": {
        "id": "fpVVmIWwVeIB"
      },
      "execution_count": 15,
      "outputs": []
    },
    {
      "cell_type": "code",
      "source": [
        "# Generate predictions\n",
        "predictions = model.transform(test)\n",
        "\n",
        "# Evaluate the model using RMSE\n",
        "evaluator = RegressionEvaluator(\n",
        "    metricName=\"rmse\",\n",
        "    labelCol=\"rating\",\n",
        "    predictionCol=\"prediction\"\n",
        ")\n",
        "rmse = evaluator.evaluate(predictions)\n",
        "print(f\"Root-Mean-Square Error (RMSE): {rmse}\")"
      ],
      "metadata": {
        "colab": {
          "base_uri": "https://localhost:8080/"
        },
        "id": "lAgb88vYWq8A",
        "outputId": "3460df0e-1457-4766-967f-d5e51b4a79b6"
      },
      "execution_count": 16,
      "outputs": [
        {
          "output_type": "stream",
          "name": "stdout",
          "text": [
            "Root-Mean-Square Error (RMSE): 0.9137278530863114\n"
          ]
        }
      ]
    },
    {
      "cell_type": "code",
      "source": [
        "# Recommend top 5 movies for userId 1\n",
        "user_id = 1\n",
        "user_recommendations = model.recommendForAllUsers(5)\n",
        "user_recommendations.filter(user_recommendations.userId == user_id).show(truncate=False)"
      ],
      "metadata": {
        "colab": {
          "base_uri": "https://localhost:8080/"
        },
        "id": "L_BN0IFzWzsy",
        "outputId": "d3b36357-54ef-4bdc-84e6-83c08a5aea04"
      },
      "execution_count": 17,
      "outputs": [
        {
          "output_type": "stream",
          "name": "stdout",
          "text": [
            "+------+-----------------------------------------------------------------------------------------+\n",
            "|userId|recommendations                                                                          |\n",
            "+------+-----------------------------------------------------------------------------------------+\n",
            "|1     |[{2927, 4.8908057}, {953, 4.838025}, {2071, 4.8207}, {3801, 4.789807}, {2360, 4.7107377}]|\n",
            "+------+-----------------------------------------------------------------------------------------+\n",
            "\n"
          ]
        }
      ]
    },
    {
      "cell_type": "code",
      "source": [
        "# Recommend top 5 users for a specific movieId (e.g., 50)\n",
        "movie_recommendations = model.recommendForAllItems(5)\n",
        "movie_recommendations.filter(movie_recommendations.movieId == 50).show(truncate=False)"
      ],
      "metadata": {
        "colab": {
          "base_uri": "https://localhost:8080/"
        },
        "id": "foVbHd0SXBSA",
        "outputId": "e522fd17-4e14-434c-ef67-faed5a14e638"
      },
      "execution_count": 18,
      "outputs": [
        {
          "output_type": "stream",
          "name": "stdout",
          "text": [
            "+-------+---------------------------------------------------------------------------------------+\n",
            "|movieId|recommendations                                                                        |\n",
            "+-------+---------------------------------------------------------------------------------------+\n",
            "|50     |[{567, 5.536049}, {597, 5.5198693}, {283, 5.4525065}, {53, 5.431159}, {577, 5.3709292}]|\n",
            "+-------+---------------------------------------------------------------------------------------+\n",
            "\n"
          ]
        }
      ]
    },
    {
      "cell_type": "code",
      "source": [
        "import requests\n",
        "\n",
        "# Define your API key\n",
        "api_key = '9cd5eafaa91194729132faea6f3495a9'\n",
        "base_url = 'https://api.themoviedb.org/3/movie/'\n",
        "\n",
        "# Function to get movie details\n",
        "def get_movie_details(movie_id):\n",
        "    url = f'{base_url}{movie_id}?api_key={api_key}'\n",
        "    response = requests.get(url)\n",
        "    movie_details = response.json()\n",
        "    return movie_details\n",
        "\n",
        "# Example usage\n",
        "movie_id = 550  # Example movie ID (Fight Club)\n",
        "movie_details = get_movie_details(movie_id)\n",
        "print(movie_details)"
      ],
      "metadata": {
        "colab": {
          "base_uri": "https://localhost:8080/"
        },
        "id": "MNVT4oLeXNVO",
        "outputId": "00ad16d5-6354-47d4-f04a-e781a23ed7e7"
      },
      "execution_count": 19,
      "outputs": [
        {
          "output_type": "stream",
          "name": "stdout",
          "text": [
            "{'adult': False, 'backdrop_path': '/hZkgoQYus5vegHoetLkCJzb17zJ.jpg', 'belongs_to_collection': None, 'budget': 63000000, 'genres': [{'id': 18, 'name': 'Drama'}], 'homepage': 'http://www.foxmovies.com/movies/fight-club', 'id': 550, 'imdb_id': 'tt0137523', 'origin_country': ['US'], 'original_language': 'en', 'original_title': 'Fight Club', 'overview': 'A ticking-time-bomb insomniac and a slippery soap salesman channel primal male aggression into a shocking new form of therapy. Their concept catches on, with underground \"fight clubs\" forming in every town, until an eccentric gets in the way and ignites an out-of-control spiral toward oblivion.', 'popularity': 111.249, 'poster_path': '/pB8BM7pdSp6B6Ih7QZ4DrQ3PmJK.jpg', 'production_companies': [{'id': 711, 'logo_path': '/tEiIH5QesdheJmDAqQwvtN60727.png', 'name': 'Fox 2000 Pictures', 'origin_country': 'US'}, {'id': 508, 'logo_path': '/7cxRWzi4LsVm4Utfpr1hfARNurT.png', 'name': 'Regency Enterprises', 'origin_country': 'US'}, {'id': 4700, 'logo_path': '/A32wmjrs9Psf4zw0uaixF0GXfxq.png', 'name': 'The Linson Company', 'origin_country': 'US'}, {'id': 25, 'logo_path': '/qZCc1lty5FzX30aOCVRBLzaVmcp.png', 'name': '20th Century Fox', 'origin_country': 'US'}, {'id': 20555, 'logo_path': '/hD8yEGUBlHOcfHYbujp71vD8gZp.png', 'name': 'Taurus Film', 'origin_country': 'DE'}], 'production_countries': [{'iso_3166_1': 'DE', 'name': 'Germany'}, {'iso_3166_1': 'US', 'name': 'United States of America'}], 'release_date': '1999-10-15', 'revenue': 100853753, 'runtime': 139, 'spoken_languages': [{'english_name': 'English', 'iso_639_1': 'en', 'name': 'English'}], 'status': 'Released', 'tagline': 'Mischief. Mayhem. Soap.', 'title': 'Fight Club', 'video': False, 'vote_average': 8.4, 'vote_count': 29816}\n"
          ]
        }
      ]
    },
    {
      "cell_type": "code",
      "source": [
        "pip install scikit-surprise"
      ],
      "metadata": {
        "colab": {
          "base_uri": "https://localhost:8080/"
        },
        "id": "btp_NTpdbgcs",
        "outputId": "4dd4a0ab-3d6b-439f-9eee-0d845758ce61"
      },
      "execution_count": 20,
      "outputs": [
        {
          "output_type": "stream",
          "name": "stdout",
          "text": [
            "Collecting scikit-surprise\n",
            "  Downloading scikit_surprise-1.1.4.tar.gz (154 kB)\n",
            "\u001b[?25l     \u001b[90m━━━━━━━━━━━━━━━━━━━━━━━━━━━━━━━━━━━━━━━━\u001b[0m \u001b[32m0.0/154.4 kB\u001b[0m \u001b[31m?\u001b[0m eta \u001b[36m-:--:--\u001b[0m\r\u001b[2K     \u001b[91m━━━━━━━━━━━━━━━━━━━━━━━━━━━━━━━━━━━━━━━\u001b[0m\u001b[91m╸\u001b[0m \u001b[32m153.6/154.4 kB\u001b[0m \u001b[31m4.5 MB/s\u001b[0m eta \u001b[36m0:00:01\u001b[0m\r\u001b[2K     \u001b[90m━━━━━━━━━━━━━━━━━━━━━━━━━━━━━━━━━━━━━━━━\u001b[0m \u001b[32m154.4/154.4 kB\u001b[0m \u001b[31m3.5 MB/s\u001b[0m eta \u001b[36m0:00:00\u001b[0m\n",
            "\u001b[?25h  Installing build dependencies ... \u001b[?25l\u001b[?25hdone\n",
            "  Getting requirements to build wheel ... \u001b[?25l\u001b[?25hdone\n",
            "  Preparing metadata (pyproject.toml) ... \u001b[?25l\u001b[?25hdone\n",
            "Requirement already satisfied: joblib>=1.2.0 in /usr/local/lib/python3.11/dist-packages (from scikit-surprise) (1.4.2)\n",
            "Requirement already satisfied: numpy>=1.19.5 in /usr/local/lib/python3.11/dist-packages (from scikit-surprise) (1.26.4)\n",
            "Requirement already satisfied: scipy>=1.6.0 in /usr/local/lib/python3.11/dist-packages (from scikit-surprise) (1.13.1)\n",
            "Building wheels for collected packages: scikit-surprise\n",
            "  Building wheel for scikit-surprise (pyproject.toml) ... \u001b[?25l\u001b[?25hdone\n",
            "  Created wheel for scikit-surprise: filename=scikit_surprise-1.1.4-cp311-cp311-linux_x86_64.whl size=2505172 sha256=a64b8f2361a1f56133b61244b393f8c4231ccff03ed76489e75b57364cecdb44\n",
            "  Stored in directory: /root/.cache/pip/wheels/2a/8f/6e/7e2899163e2d85d8266daab4aa1cdabec7a6c56f83c015b5af\n",
            "Successfully built scikit-surprise\n",
            "Installing collected packages: scikit-surprise\n",
            "Successfully installed scikit-surprise-1.1.4\n"
          ]
        }
      ]
    },
    {
      "cell_type": "code",
      "source": [
        "from surprise import SVD, Reader, Dataset\n",
        "from surprise.model_selection import train_test_split\n",
        "\n",
        "# Load ratings data\n",
        "df_1 = pd.read_csv('ratings.csv')\n",
        "\n",
        "# Define the format for Surprise library\n",
        "reader = Reader(rating_scale=(1, 5))\n",
        "data = Dataset.load_from_df(df_1[['userId', 'movieId', 'rating']], reader)\n",
        "\n",
        "# Split the data for training and testing\n",
        "trainset, testset = train_test_split(data, test_size=0.2)\n",
        "\n",
        "# Initialize the model (using SVD algorithm)\n",
        "model = SVD()\n",
        "model.fit(trainset)\n",
        "\n",
        "# Test the model\n",
        "predictions = model.test(testset)\n",
        "\n",
        "# You can make predictions for a specific user and movie like this:\n",
        "user_id = 1  # Example userId\n",
        "movie_id = 550  # Example movieId (Fight Club)\n",
        "prediction = model.predict(user_id, movie_id)\n",
        "print(f'Predicted Rating: {prediction.est}')"
      ],
      "metadata": {
        "colab": {
          "base_uri": "https://localhost:8080/"
        },
        "id": "HmvyScCEcR9Y",
        "outputId": "1d450be8-38e3-4626-8825-a89fe3a3f4f0"
      },
      "execution_count": 21,
      "outputs": [
        {
          "output_type": "stream",
          "name": "stdout",
          "text": [
            "Predicted Rating: 3.22667704315251\n"
          ]
        }
      ]
    },
    {
      "cell_type": "code",
      "source": [
        "from sklearn.metrics.pairwise import cosine_similarity\n",
        "from sklearn.feature_extraction.text import TfidfVectorizer\n",
        "\n",
        "# Example movies data (simplified)\n",
        "df = pd.read_csv('movies.csv')\n",
        "\n",
        "# Using the 'genres' column for content-based filtering\n",
        "tfidf = TfidfVectorizer(stop_words='english')\n",
        "tfidf_matrix = tfidf.fit_transform(df['genres'])\n",
        "\n",
        "# Calculate cosine similarity between movies\n",
        "cosine_sim = cosine_similarity(tfidf_matrix, tfidf_matrix)\n",
        "\n",
        "# Function to get the most similar movies\n",
        "def get_similar_movies(movie_id, cosine_sim=cosine_sim):\n",
        "    idx = df.index[df['movieId'] == movie_id].tolist()[0]\n",
        "    sim_scores = list(enumerate(cosine_sim[idx]))\n",
        "    sim_scores = sorted(sim_scores, key=lambda x: x[1], reverse=True)\n",
        "    sim_scores = sim_scores[1:11]  # Get top 10 similar movies\n",
        "    movie_indices = [i[0] for i in sim_scores]\n",
        "    return df['title'].iloc[movie_indices]\n",
        "\n",
        "# Example usage:\n",
        "movie_id = 550  # Movie ID (Fight Club)\n",
        "similar_movies = get_similar_movies(movie_id)\n",
        "print(similar_movies)\n"
      ],
      "metadata": {
        "colab": {
          "base_uri": "https://localhost:8080/"
        },
        "id": "2VOzwiNEcuRS",
        "outputId": "f34b83bb-bc84-4f93-91a5-6195814dcbd4"
      },
      "execution_count": 22,
      "outputs": [
        {
          "output_type": "stream",
          "name": "stdout",
          "text": [
            "6                          Sabrina (1995)\n",
            "38                        Clueless (1995)\n",
            "63                   Two if by Sea (1996)\n",
            "67     French Twist (Gazon maudit) (1995)\n",
            "91             Vampire in Brooklyn (1995)\n",
            "116                   If Lucy Fell (1996)\n",
            "120                      Boomerang (1992)\n",
            "127                 Pie in the Sky (1995)\n",
            "233                    French Kiss (1995)\n",
            "234                   Forget Paris (1995)\n",
            "Name: title, dtype: object\n"
          ]
        }
      ]
    },
    {
      "cell_type": "code",
      "source": [
        "from surprise import accuracy\n",
        "\n",
        "# Calculate RMSE for the predictions made by the collaborative filtering model\n",
        "rmse = accuracy.rmse(predictions)\n",
        "print(f'Root Mean Squared Error (RMSE): {rmse}')"
      ],
      "metadata": {
        "colab": {
          "base_uri": "https://localhost:8080/"
        },
        "id": "jIGJN7cudA-4",
        "outputId": "0c2e6e36-55dd-4e80-aa5c-64918ae013b7"
      },
      "execution_count": 23,
      "outputs": [
        {
          "output_type": "stream",
          "name": "stdout",
          "text": [
            "RMSE: 0.8782\n",
            "Root Mean Squared Error (RMSE): 0.878236021873494\n"
          ]
        }
      ]
    },
    {
      "cell_type": "code",
      "source": [
        "# Define the threshold for liked movies (e.g., rating >= 4)\n",
        "threshold = 4\n",
        "\n",
        "# Filter the ratings to get movies the user has liked\n",
        "# Use df_1 (ratings DataFrame) instead of df_2 (users DataFrame)\n",
        "true_likes = df_1[df_1['rating'] >= threshold]['movieId'].tolist()\n",
        "\n",
        "# Now, 'true_likes' contains the list of movie IDs that the user liked"
      ],
      "metadata": {
        "id": "yf2UP4dKdgcs"
      },
      "execution_count": 24,
      "outputs": []
    },
    {
      "cell_type": "code",
      "source": [
        "# Assuming `get_similar_movies` is a function that returns the top N recommended movies.\n",
        "def get_similar_movies(user_id, top_n=10):\n",
        "    # Here, the recommendation system logic should fetch top N recommended movie IDs for the user.\n",
        "    # For example, if you're using collaborative filtering, get the top N predicted movies:\n",
        "    recommended_movies = []  # Replace with logic to fetch top N recommendations for `user_id`\n",
        "    return recommended_movies\n",
        "\n",
        "# Define true likes for evaluation (e.g., movies the user actually liked)\n",
        "true_likes = [1, 2, 3, 4, 5]  # Example: the list of movie IDs that the user liked\n",
        "\n",
        "# Get recommended movies (replace with your recommendation logic)\n",
        "recommended_movies = get_similar_movies(user_id=1)\n",
        "\n",
        "# Now you can calculate precision and recall\n",
        "from sklearn.metrics import precision_score, recall_score\n",
        "\n",
        "# Precision and recall require binary values: 1 for liked and 0 for not liked\n",
        "# For simplicity, let's say we compare true likes vs recommended movies:\n",
        "y_true = [1 if movie in true_likes else 0 for movie in recommended_movies]\n",
        "y_pred = [1] * len(recommended_movies)  # We're assuming all recommended movies are \"liked\"\n",
        "\n",
        "# Calculate precision and recall\n",
        "precision = precision_score(y_true, y_pred)\n",
        "recall = recall_score(y_true, y_pred)\n",
        "\n",
        "print(f'Precision: {precision}')\n",
        "print(f'Recall: {recall}')"
      ],
      "metadata": {
        "colab": {
          "base_uri": "https://localhost:8080/"
        },
        "id": "-yDZzLkBeF-S",
        "outputId": "d1a0bc09-03c8-4721-8690-0ee7dd3141cb"
      },
      "execution_count": 25,
      "outputs": [
        {
          "output_type": "stream",
          "name": "stdout",
          "text": [
            "Precision: 0.0\n",
            "Recall: 0.0\n"
          ]
        },
        {
          "output_type": "stream",
          "name": "stderr",
          "text": [
            "/usr/local/lib/python3.11/dist-packages/sklearn/metrics/_classification.py:1565: UndefinedMetricWarning: Precision is ill-defined and being set to 0.0 due to no predicted samples. Use `zero_division` parameter to control this behavior.\n",
            "  _warn_prf(average, modifier, f\"{metric.capitalize()} is\", len(result))\n",
            "/usr/local/lib/python3.11/dist-packages/sklearn/metrics/_classification.py:1565: UndefinedMetricWarning: Recall is ill-defined and being set to 0.0 due to no true samples. Use `zero_division` parameter to control this behavior.\n",
            "  _warn_prf(average, modifier, f\"{metric.capitalize()} is\", len(result))\n"
          ]
        }
      ]
    },
    {
      "cell_type": "code",
      "source": [
        "# Assuming `get_similar_movies` is a function that returns the top N recommended movies.\n",
        "def get_similar_movies(user_id, top_n=10):\n",
        "    # Here, the recommendation system logic should fetch top N recommended movie IDs for the user.\n",
        "    # For example, if you're using collaborative filtering, get the top N predicted movies:\n",
        "    # Replace with logic to fetch top N recommendations for `user_id`\n",
        "\n",
        "    # Placeholder for recommendation logic, returning some movie IDs for demonstration\n",
        "    recommended_movies = [1, 6, 7, 8, 9]\n",
        "    return recommended_movies\n",
        "\n",
        "# Define true likes for evaluation (e.g., movies the user actually liked)\n",
        "true_likes = [1, 2, 3, 4, 5]  # Example: the list of movie IDs that the user liked\n",
        "\n",
        "# Get recommended movies (replace with your recommendation logic)\n",
        "recommended_movies = get_similar_movies(user_id=1)\n",
        "\n",
        "# Now you can calculate precision and recall\n",
        "from sklearn.metrics import precision_score, recall_score\n",
        "\n",
        "# Precision and recall require binary values: 1 for liked and 0 for not liked\n",
        "# For simplicity, let's say we compare true likes vs recommended movies:\n",
        "y_true = [1 if movie in true_likes else 0 for movie in recommended_movies]\n",
        "y_pred = [1] * len(recommended_movies)  # We're assuming all recommended movies are \"liked\"\n",
        "\n",
        "# Calculate precision and recall\n",
        "precision = precision_score(y_true, y_pred)\n",
        "recall = recall_score(y_true, y_pred)\n",
        "\n",
        "print(f'Precision: {precision}')\n",
        "print(f'Recall: {recall}')\n",
        "\n",
        "#Example: Calculate Precision and Recall for top N recommendations\n",
        "top_n = 10\n",
        "# Assuming `true_likes` is the list of movies the user liked\n",
        "# and `recommended_movies` is the top N recommended movies.\n",
        "# Convert lists to NumPy arrays or lists for precision/recall calculation\n",
        "true_likes_arr = true_likes # No change if it's already a list\n",
        "recommended_movies_arr = recommended_movies # No change if it's already a list\n",
        "\n",
        "# Change 'average' to 'micro' to handle multiclass data\n",
        "precision = precision_score(true_likes_arr, recommended_movies_arr, average='micro')\n",
        "recall = recall_score(true_likes_arr, recommended_movies_arr, average='micro')\n",
        "\n",
        "print(f'Precision: {precision}')\n",
        "print(f'Recall: {recall}')"
      ],
      "metadata": {
        "colab": {
          "base_uri": "https://localhost:8080/"
        },
        "id": "IVlAAqLXdJVo",
        "outputId": "7ba68073-4118-4ac1-bea0-104c87681a16"
      },
      "execution_count": 26,
      "outputs": [
        {
          "output_type": "stream",
          "name": "stdout",
          "text": [
            "Precision: 0.2\n",
            "Recall: 1.0\n",
            "Precision: 0.2\n",
            "Recall: 0.2\n"
          ]
        }
      ]
    },
    {
      "cell_type": "code",
      "source": [
        "from flask import Flask, jsonify, request\n",
        "app = Flask(__name__)\n",
        "\n",
        "@app.route('/recommend', methods=['GET'])\n",
        "def recommend():\n",
        "    user_id = request.args.get('user_id')\n",
        "    # Get recommendations based on user_id\n",
        "    recommendations = get_recommendations(user_id)  # Your recommendation logic\n",
        "    return jsonify(recommendations)\n",
        "\n",
        "if __name__ == '__main__':\n",
        "    app.run(debug=True)"
      ],
      "metadata": {
        "colab": {
          "base_uri": "https://localhost:8080/"
        },
        "id": "BZo2bYokfgB5",
        "outputId": "3a5dd114-e57f-4ffb-b8ad-0767d48b68f3"
      },
      "execution_count": 27,
      "outputs": [
        {
          "output_type": "stream",
          "name": "stdout",
          "text": [
            " * Serving Flask app '__main__'\n",
            " * Debug mode: on\n"
          ]
        },
        {
          "output_type": "stream",
          "name": "stderr",
          "text": [
            "INFO:werkzeug:\u001b[31m\u001b[1mWARNING: This is a development server. Do not use it in a production deployment. Use a production WSGI server instead.\u001b[0m\n",
            " * Running on http://127.0.0.1:5000\n",
            "INFO:werkzeug:\u001b[33mPress CTRL+C to quit\u001b[0m\n",
            "INFO:werkzeug: * Restarting with stat\n"
          ]
        }
      ]
    },
    {
      "cell_type": "code",
      "source": [
        "#Movie Ratings Distribution\n",
        "import matplotlib.pyplot as plt\n",
        "import seaborn as sns\n",
        "\n",
        "plt.figure(figsize=(8, 5))\n",
        "sns.histplot(df_1['rating'], bins=20, kde=True, color='blue')\n",
        "plt.xlabel('Ratings')\n",
        "plt.ylabel('Count')\n",
        "plt.title('Distribution of Movie Ratings')\n",
        "plt.show()"
      ],
      "metadata": {
        "colab": {
          "base_uri": "https://localhost:8080/",
          "height": 487
        },
        "id": "AP-6U5hiCRWO",
        "outputId": "2ed25886-75e0-4a61-f35e-502f97923023"
      },
      "execution_count": 29,
      "outputs": [
        {
          "output_type": "display_data",
          "data": {
            "text/plain": [
              "<Figure size 800x500 with 1 Axes>"
            ],
            "image/png": "[encoded data removed]"
          },
          "metadata": {}
        }
      ]
    },
    {
      "cell_type": "code",
      "source": [
        "#Top 10 Highest Rated Movies\n",
        "top_movies = df_1.groupby('movieId')['rating'].mean().nlargest(10).reset_index()\n",
        "top_movies = top_movies.merge(df[['movieId', 'title']], on='movieId')\n",
        "\n",
        "plt.figure(figsize=(10, 5))\n",
        "sns.barplot(x='rating', y='title', data=top_movies, palette='viridis')\n",
        "plt.xlabel('Average Rating')\n",
        "plt.ylabel('Movie Title')\n",
        "plt.title('Top 10 Highest Rated Movies')\n",
        "plt.show()"
      ],
      "metadata": {
        "colab": {
          "base_uri": "https://localhost:8080/",
          "height": 574
        },
        "id": "moWMUQbSCcBB",
        "outputId": "3a2ef643-d69d-4264-f36f-95c912bca087"
      },
      "execution_count": 30,
      "outputs": [
        {
          "output_type": "stream",
          "name": "stderr",
          "text": [
            "<ipython-input-30-06b3fd2c8f03>:6: FutureWarning: \n",
            "\n",
            "Passing `palette` without assigning `hue` is deprecated and will be removed in v0.14.0. Assign the `y` variable to `hue` and set `legend=False` for the same effect.\n",
            "\n",
            "  sns.barplot(x='rating', y='title', data=top_movies, palette='viridis')\n"
          ]
        },
        {
          "output_type": "display_data",
          "data": {
            "text/plain": [
              "<Figure size 1000x500 with 1 Axes>"
            ],
            "image/png": "[encoded data removed]"
          },
          "metadata": {}
        }
      ]
    },
    {
      "cell_type": "code",
      "source": [
        "#User Activity Analysis\n",
        "user_activity = df_1.groupby('userId')['rating'].count()\n",
        "\n",
        "plt.figure(figsize=(8, 5))\n",
        "sns.histplot(user_activity, bins=50, color='green', kde=True)\n",
        "plt.xlabel(\"Number of Ratings per User\")\n",
        "plt.ylabel(\"Count of Users\")\n",
        "plt.title(\"User Activity Distribution\")\n",
        "plt.show()"
      ],
      "metadata": {
        "colab": {
          "base_uri": "https://localhost:8080/",
          "height": 487
        },
        "id": "6QqtNL9UChvj",
        "outputId": "c79d6d87-a550-4350-c0b1-b239d04fae14"
      },
      "execution_count": 31,
      "outputs": [
        {
          "output_type": "display_data",
          "data": {
            "text/plain": [
              "<Figure size 800x500 with 1 Axes>"
            ],
            "image/png": "[encoded data removed]"
          },
          "metadata": {}
        }
      ]
    }
  ],
  "metadata": {
    "colab": {
      "provenance": []
    },
    "kernelspec": {
      "display_name": "Python 3",
      "name": "python3"
    },
    "language_info": {
      "name": "python"
    }
  },
  "nbformat": 4,
  "nbformat_minor": 0
}
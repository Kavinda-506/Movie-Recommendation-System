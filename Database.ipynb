{
 "cells": [
  {
   "cell_type": "code",
   "execution_count": 1,
   "id": "c6519af8-cb43-4ac7-bffa-4aab011a97ff",
   "metadata": {},
   "outputs": [],
   "source": [
    "from pymongo import MongoClient\n",
    "\n",
    "# Connect to MongoDB (adjust the connection string as needed)\n",
    "client = MongoClient(\"mongodb://localhost:27017/\")  # Replace with your MongoDB URI\n",
    "db = client['movie_recommendation_system']  # Database name"
   ]
  },
  {
   "cell_type": "code",
   "execution_count": 25,
   "id": "96b33b5b-fc78-49a9-9118-3883aa8deeaf",
   "metadata": {},
   "outputs": [
    {
     "name": "stdout",
     "output_type": "stream",
     "text": [
      "Collections in the 'config' database: ['Users', 'system.sessions', 'Movies', 'Ratings']\n"
     ]
    }
   ],
   "source": [
    "# Access the 'config' database\n",
    "db = client['config']\n",
    "\n",
    "# List all collections in the 'config' database\n",
    "collections = db.list_collection_names()\n",
    "print(f\"Collections in the 'config' database: {collections}\")"
   ]
  },
  {
   "cell_type": "code",
   "execution_count": 35,
   "id": "af3fe78a-c70a-42ed-9bad-462467e9a8dc",
   "metadata": {},
   "outputs": [
    {
     "name": "stdout",
     "output_type": "stream",
     "text": [
      "Movies Collection Sample:\n",
      "{'_id': ObjectId('67a3388e651d35131c6e07c7'), 'movieId': 1, 'title': 'Toy Story (1995)', 'genres': \"Animation|Children's|Comedy\"}\n",
      "{'_id': ObjectId('67a3388e651d35131c6e07c8'), 'movieId': 2, 'title': 'Jumanji (1995)', 'genres': \"Adventure|Children's|Fantasy\"}\n",
      "{'_id': ObjectId('67a3388e651d35131c6e07c9'), 'movieId': 3, 'title': 'Grumpier Old Men (1995)', 'genres': 'Comedy|Romance'}\n",
      "{'_id': ObjectId('67a3388e651d35131c6e07ca'), 'movieId': 4, 'title': 'Waiting to Exhale (1995)', 'genres': 'Comedy|Drama'}\n",
      "{'_id': ObjectId('67a3388e651d35131c6e07cb'), 'movieId': 5, 'title': 'Father of the Bride Part II (1995)', 'genres': 'Comedy'}\n",
      "\n",
      "Ratings Collection Sample:\n",
      "{'_id': ObjectId('67a33899651d35131c6e16f2'), 'userId': 1, 'movieId': 1193, 'rating': 5, 'timestamp': 978300760}\n",
      "{'_id': ObjectId('67a33899651d35131c6e16f3'), 'userId': 1, 'movieId': 661, 'rating': 3, 'timestamp': 978302109}\n",
      "{'_id': ObjectId('67a33899651d35131c6e16f4'), 'userId': 1, 'movieId': 914, 'rating': 3, 'timestamp': 978301968}\n",
      "{'_id': ObjectId('67a33899651d35131c6e16f5'), 'userId': 1, 'movieId': 3408, 'rating': 4, 'timestamp': 978300275}\n",
      "{'_id': ObjectId('67a33899651d35131c6e16f6'), 'userId': 1, 'movieId': 2355, 'rating': 5, 'timestamp': 978824291}\n",
      "\n",
      "Users Collection Sample:\n",
      "{'_id': ObjectId('67a33bc3651d35131c7d5a04'), 'userId': 1, 'gender': 'F', 'age': 1, 'occupation': 10, 'zip': 48067}\n",
      "{'_id': ObjectId('67a33bc3651d35131c7d5a05'), 'userId': 2, 'gender': 'M', 'age': 56, 'occupation': 16, 'zip': 70072}\n",
      "{'_id': ObjectId('67a33bc3651d35131c7d5a06'), 'userId': 3, 'gender': 'M', 'age': 25, 'occupation': 15, 'zip': 55117}\n",
      "{'_id': ObjectId('67a33bc3651d35131c7d5a07'), 'userId': 4, 'gender': 'M', 'age': 45, 'occupation': 7, 'zip': 2460}\n",
      "{'_id': ObjectId('67a33bc3651d35131c7d5a08'), 'userId': 5, 'gender': 'M', 'age': 25, 'occupation': 20, 'zip': 55455}\n"
     ]
    }
   ],
   "source": [
    "# Fetch and display a sample from the 'Movies' collection\n",
    "movies_sample = db['Movies'].find().limit(5)\n",
    "print(\"Movies Collection Sample:\")\n",
    "for movie in movies_sample:\n",
    "    print(movie)\n",
    "\n",
    "# Fetch and display a sample from the 'Ratings' collection\n",
    "ratings_sample = db['Ratings'].find().limit(5)\n",
    "print(\"\\nRatings Collection Sample:\")\n",
    "for rating in ratings_sample:\n",
    "    print(rating)\n",
    "\n",
    "# Fetch and display a sample from the 'Users' collection\n",
    "users_sample = db['Users'].find().limit(5)\n",
    "print(\"\\nUsers Collection Sample:\")\n",
    "for user in users_sample:\n",
    "    print(user)"
   ]
  },
  {
   "cell_type": "code",
   "execution_count": 37,
   "id": "5a12f6a0-6313-4a8f-bfdd-be30f1a2a142",
   "metadata": {},
   "outputs": [
    {
     "name": "stdout",
     "output_type": "stream",
     "text": [
      "Movies Collection has 3883 documents.\n",
      "Ratings Collection has 1000209 documents.\n",
      "Users Collection has 6040 documents.\n"
     ]
    }
   ],
   "source": [
    "# Check the number of documents in each collection\n",
    "movies_count = db['Movies'].count_documents({})\n",
    "ratings_count = db['Ratings'].count_documents({})\n",
    "users_count = db['Users'].count_documents({})\n",
    "\n",
    "print(f\"Movies Collection has {movies_count} documents.\")\n",
    "print(f\"Ratings Collection has {ratings_count} documents.\")\n",
    "print(f\"Users Collection has {users_count} documents.\")"
   ]
  },
  {
   "cell_type": "code",
   "execution_count": 39,
   "id": "fc503dcd-63c8-4e73-a35c-d73cf959cfb9",
   "metadata": {},
   "outputs": [
    {
     "name": "stdout",
     "output_type": "stream",
     "text": [
      "                        _id  movieId                               title  \\\n",
      "0  67a3388e651d35131c6e07c7        1                    Toy Story (1995)   \n",
      "1  67a3388e651d35131c6e07c8        2                      Jumanji (1995)   \n",
      "2  67a3388e651d35131c6e07c9        3             Grumpier Old Men (1995)   \n",
      "3  67a3388e651d35131c6e07ca        4            Waiting to Exhale (1995)   \n",
      "4  67a3388e651d35131c6e07cb        5  Father of the Bride Part II (1995)   \n",
      "\n",
      "                         genres  \n",
      "0   Animation|Children's|Comedy  \n",
      "1  Adventure|Children's|Fantasy  \n",
      "2                Comedy|Romance  \n",
      "3                  Comedy|Drama  \n",
      "4                        Comedy  \n",
      "                        _id  userId  movieId  rating  timestamp\n",
      "0  67a33899651d35131c6e16f2       1     1193       5  978300760\n",
      "1  67a33899651d35131c6e16f3       1      661       3  978302109\n",
      "2  67a33899651d35131c6e16f4       1      914       3  978301968\n",
      "3  67a33899651d35131c6e16f5       1     3408       4  978300275\n",
      "4  67a33899651d35131c6e16f6       1     2355       5  978824291\n",
      "                        _id  userId gender  age  occupation    zip\n",
      "0  67a33bc3651d35131c7d5a04       1      F    1          10  48067\n",
      "1  67a33bc3651d35131c7d5a05       2      M   56          16  70072\n",
      "2  67a33bc3651d35131c7d5a06       3      M   25          15  55117\n",
      "3  67a33bc3651d35131c7d5a07       4      M   45           7   2460\n",
      "4  67a33bc3651d35131c7d5a08       5      M   25          20  55455\n"
     ]
    }
   ],
   "source": [
    "import pandas as pd\n",
    "\n",
    "# Fetch all data from collections\n",
    "movies_data = list(db['Movies'].find())\n",
    "ratings_data = list(db['Ratings'].find())\n",
    "users_data = list(db['Users'].find())\n",
    "\n",
    "# Convert to DataFrame for easier handling\n",
    "movies_df = pd.DataFrame(movies_data)\n",
    "ratings_df = pd.DataFrame(ratings_data)\n",
    "users_df = pd.DataFrame(users_data)\n",
    "\n",
    "# Check the structure of the data\n",
    "print(movies_df.head())\n",
    "print(ratings_df.head())\n",
    "print(users_df.head())"
   ]
  },
  {
   "cell_type": "code",
   "execution_count": 53,
   "id": "6916d850-a4fb-4c5c-86d4-41f53fb82787",
   "metadata": {},
   "outputs": [
    {
     "name": "stdout",
     "output_type": "stream",
     "text": [
      "Movie: Aladdin and the King of Thieves (1996), Similarity: 1.0\n",
      "Movie: American Tail, An (1986), Similarity: 1.0\n",
      "Movie: American Tail: Fievel Goes West, An (1991), Similarity: 1.0\n",
      "Movie: Rugrats Movie, The (1998), Similarity: 1.0\n",
      "Movie: Bug's Life, A (1998), Similarity: 1.0\n"
     ]
    }
   ],
   "source": [
    "from sklearn.feature_extraction.text import TfidfVectorizer\n",
    "from sklearn.metrics.pairwise import cosine_similarity\n",
    "\n",
    "# Preprocess the movie data (e.g., use the 'genres' column to create content features)\n",
    "tfidf = TfidfVectorizer(stop_words='english')\n",
    "tfidf_matrix = tfidf.fit_transform(movies_df['genres'])\n",
    "\n",
    "# Compute the cosine similarity matrix\n",
    "cosine_sim = cosine_similarity(tfidf_matrix, tfidf_matrix)\n",
    "\n",
    "# Example: Get similar movies for a specific movieId (say, movieId = 1)\n",
    "movie_idx = movies_df[movies_df['movieId'] == 1].index[0]\n",
    "similarities = list(enumerate(cosine_sim[movie_idx]))\n",
    "\n",
    "# Sort the movies by similarity and get the top N most similar movies\n",
    "similar_movies = sorted(similarities, key=lambda x: x[1], reverse=True)[1:6]  # Top 5 similar movies\n",
    "for idx, sim in similar_movies:\n",
    "    print(f\"Movie: {movies_df['title'][idx]}, Similarity: {sim}\")"
   ]
  },
  {
   "cell_type": "code",
   "execution_count": 59,
   "id": "80e56833-b5f3-4519-a958-8122df2bb703",
   "metadata": {},
   "outputs": [
    {
     "name": "stdout",
     "output_type": "stream",
     "text": [
      "Requirement already satisfied: pip in c:\\users\\user\\anaconda3\\lib\\site-packages (24.0)\n",
      "Collecting pip\n",
      "  Downloading pip-25.0-py3-none-any.whl.metadata (3.7 kB)\n",
      "Requirement already satisfied: setuptools in c:\\users\\user\\anaconda3\\lib\\site-packages (69.5.1)\n",
      "Collecting setuptools\n",
      "  Using cached setuptools-75.8.0-py3-none-any.whl.metadata (6.7 kB)\n",
      "Requirement already satisfied: wheel in c:\\users\\user\\anaconda3\\lib\\site-packages (0.43.0)\n",
      "Collecting wheel\n",
      "  Using cached wheel-0.45.1-py3-none-any.whl.metadata (2.3 kB)\n",
      "Downloading pip-25.0-py3-none-any.whl (1.8 MB)\n",
      "   ---------------------------------------- 0.0/1.8 MB ? eta -:--:--\n",
      "   ---------------------------------------- 0.0/1.8 MB ? eta -:--:--\n",
      "   ---------------------------------------- 0.0/1.8 MB ? eta -:--:--\n",
      "    --------------------------------------- 0.0/1.8 MB 326.8 kB/s eta 0:00:06\n",
      "   - -------------------------------------- 0.1/1.8 MB 438.9 kB/s eta 0:00:05\n",
      "   -- ------------------------------------- 0.1/1.8 MB 454.0 kB/s eta 0:00:04\n",
      "   --- ------------------------------------ 0.2/1.8 MB 573.4 kB/s eta 0:00:03\n",
      "   --- ------------------------------------ 0.2/1.8 MB 618.3 kB/s eta 0:00:03\n",
      "   ---- ----------------------------------- 0.2/1.8 MB 625.1 kB/s eta 0:00:03\n",
      "   ----- ---------------------------------- 0.3/1.8 MB 656.4 kB/s eta 0:00:03\n",
      "   ------ --------------------------------- 0.3/1.8 MB 703.0 kB/s eta 0:00:03\n",
      "   -------- ------------------------------- 0.4/1.8 MB 740.5 kB/s eta 0:00:02\n",
      "   --------- ------------------------------ 0.4/1.8 MB 771.4 kB/s eta 0:00:02\n",
      "   --------- ------------------------------ 0.4/1.8 MB 747.0 kB/s eta 0:00:02\n",
      "   ---------- ----------------------------- 0.5/1.8 MB 773.5 kB/s eta 0:00:02\n",
      "   ----------- ---------------------------- 0.5/1.8 MB 784.0 kB/s eta 0:00:02\n",
      "   ------------ --------------------------- 0.6/1.8 MB 754.8 kB/s eta 0:00:02\n",
      "   ------------ --------------------------- 0.6/1.8 MB 749.6 kB/s eta 0:00:02\n",
      "   ------------ --------------------------- 0.6/1.8 MB 732.3 kB/s eta 0:00:02\n",
      "   ------------- -------------------------- 0.6/1.8 MB 740.1 kB/s eta 0:00:02\n",
      "   -------------- ------------------------- 0.7/1.8 MB 747.9 kB/s eta 0:00:02\n",
      "   --------------- ------------------------ 0.7/1.8 MB 765.0 kB/s eta 0:00:02\n",
      "   ---------------- ----------------------- 0.8/1.8 MB 768.0 kB/s eta 0:00:02\n",
      "   ----------------- ---------------------- 0.8/1.8 MB 774.7 kB/s eta 0:00:02\n",
      "   ------------------- -------------------- 0.9/1.8 MB 795.6 kB/s eta 0:00:02\n",
      "   -------------------- ------------------- 0.9/1.8 MB 810.1 kB/s eta 0:00:02\n",
      "   -------------------- ------------------- 0.9/1.8 MB 817.4 kB/s eta 0:00:02\n",
      "   --------------------- ------------------ 1.0/1.8 MB 796.6 kB/s eta 0:00:02\n",
      "   ---------------------- ----------------- 1.1/1.8 MB 815.4 kB/s eta 0:00:01\n",
      "   ------------------------ --------------- 1.1/1.8 MB 832.8 kB/s eta 0:00:01\n",
      "   ------------------------- -------------- 1.2/1.8 MB 843.9 kB/s eta 0:00:01\n",
      "   -------------------------- ------------- 1.2/1.8 MB 852.1 kB/s eta 0:00:01\n",
      "   --------------------------- ------------ 1.2/1.8 MB 843.5 kB/s eta 0:00:01\n",
      "   ---------------------------- ----------- 1.3/1.8 MB 851.6 kB/s eta 0:00:01\n",
      "   ----------------------------- ---------- 1.4/1.8 MB 871.9 kB/s eta 0:00:01\n",
      "   ------------------------------ --------- 1.4/1.8 MB 871.9 kB/s eta 0:00:01\n",
      "   ------------------------------- -------- 1.5/1.8 MB 888.5 kB/s eta 0:00:01\n",
      "   --------------------------------- ------ 1.5/1.8 MB 895.9 kB/s eta 0:00:01\n",
      "   ---------------------------------- ----- 1.6/1.8 MB 905.5 kB/s eta 0:00:01\n",
      "   ----------------------------------- ---- 1.6/1.8 MB 919.9 kB/s eta 0:00:01\n",
      "   ------------------------------------- -- 1.7/1.8 MB 929.9 kB/s eta 0:00:01\n",
      "   -------------------------------------- - 1.8/1.8 MB 933.9 kB/s eta 0:00:01\n",
      "   -------------------------------------- - 1.8/1.8 MB 933.9 kB/s eta 0:00:01\n",
      "   -------------------------------------- - 1.8/1.8 MB 933.9 kB/s eta 0:00:01\n",
      "   ---------------------------------------- 1.8/1.8 MB 901.7 kB/s eta 0:00:00\n",
      "Using cached setuptools-75.8.0-py3-none-any.whl (1.2 MB)\n",
      "Using cached wheel-0.45.1-py3-none-any.whl (72 kB)\n",
      "Installing collected packages: wheel, setuptools, pip\n",
      "  Attempting uninstall: wheel\n",
      "    Found existing installation: wheel 0.43.0\n",
      "    Uninstalling wheel-0.43.0:\n",
      "      Successfully uninstalled wheel-0.43.0\n",
      "  Attempting uninstall: setuptools\n",
      "    Found existing installation: setuptools 69.5.1\n",
      "    Uninstalling setuptools-69.5.1:\n",
      "      Successfully uninstalled setuptools-69.5.1\n",
      "  Attempting uninstall: pip\n",
      "    Found existing installation: pip 24.0\n",
      "    Uninstalling pip-24.0:\n",
      "      Successfully uninstalled pip-24.0\n",
      "Successfully installed pip-25.0 setuptools-75.8.0 wheel-0.45.1\n",
      "Note: you may need to restart the kernel to use updated packages.\n"
     ]
    }
   ],
   "source": [
    "pip install --upgrade pip setuptools wheel"
   ]
  },
  {
   "cell_type": "code",
   "execution_count": null,
   "id": "46fe50b0-c753-4547-9bc4-11addb485350",
   "metadata": {},
   "outputs": [],
   "source": [
    "pip install scikit-surprise"
   ]
  },
  {
   "cell_type": "code",
   "execution_count": 55,
   "id": "728e459d-4401-4490-b116-8b3115ff5cb5",
   "metadata": {},
   "outputs": [
    {
     "ename": "ModuleNotFoundError",
     "evalue": "No module named 'surprise'",
     "output_type": "error",
     "traceback": [
      "\u001b[1;31m---------------------------------------------------------------------------\u001b[0m",
      "\u001b[1;31mModuleNotFoundError\u001b[0m                       Traceback (most recent call last)",
      "Cell \u001b[1;32mIn[55], line 1\u001b[0m\n\u001b[1;32m----> 1\u001b[0m \u001b[38;5;28;01mfrom\u001b[39;00m \u001b[38;5;21;01msurprise\u001b[39;00m \u001b[38;5;28;01mimport\u001b[39;00m Reader, Dataset, SVD\n\u001b[0;32m      2\u001b[0m \u001b[38;5;28;01mfrom\u001b[39;00m \u001b[38;5;21;01msurprise\u001b[39;00m\u001b[38;5;21;01m.\u001b[39;00m\u001b[38;5;21;01mmodel_selection\u001b[39;00m \u001b[38;5;28;01mimport\u001b[39;00m train_test_split\n\u001b[0;32m      3\u001b[0m \u001b[38;5;28;01mfrom\u001b[39;00m \u001b[38;5;21;01msurprise\u001b[39;00m \u001b[38;5;28;01mimport\u001b[39;00m accuracy\n",
      "\u001b[1;31mModuleNotFoundError\u001b[0m: No module named 'surprise'"
     ]
    }
   ],
   "source": [
    "from surprise import Reader, Dataset, SVD\n",
    "from surprise.model_selection import train_test_split\n",
    "from surprise import accuracy\n",
    "\n",
    "# Prepare data for collaborative filtering\n",
    "reader = Reader(rating_scale=(1, 5))  # Adjust scale if necessary\n",
    "data = Dataset.load_from_df(ratings_df[['userId', 'movieId', 'rating']], reader)\n",
    "\n",
    "# Split the data into training and testing sets\n",
    "trainset, testset = train_test_split(data, test_size=0.2)\n",
    "\n",
    "# Build the model (SVD)\n",
    "model = SVD()\n",
    "model.fit(trainset)\n",
    "\n",
    "# Make predictions\n",
    "predictions = model.test(testset)\n",
    "\n",
    "# Evaluate the model\n",
    "rmse = accuracy.rmse(predictions)\n",
    "print(f\"Root Mean Squared Error (RMSE): {rmse}\")"
   ]
  },
  {
   "cell_type": "code",
   "execution_count": null,
   "id": "e6bc4d6e-ec38-4882-b223-cf7439371a14",
   "metadata": {},
   "outputs": [],
   "source": []
  }
 ],
 "metadata": {
  "kernelspec": {
   "display_name": "Python 3 (ipykernel)",
   "language": "python",
   "name": "python3"
  },
  "language_info": {
   "codemirror_mode": {
    "name": "ipython",
    "version": 3
   },
   "file_extension": ".py",
   "mimetype": "text/x-python",
   "name": "python",
   "nbconvert_exporter": "python",
   "pygments_lexer": "ipython3",
   "version": "3.12.4"
  }
 },
 "nbformat": 4,
 "nbformat_minor": 5
}

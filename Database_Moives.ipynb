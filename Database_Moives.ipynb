{
 "cells": [
  {
   "cell_type": "code",
   "execution_count": 1,
   "id": "c6519af8-cb43-4ac7-bffa-4aab011a97ff",
   "metadata": {},
   "outputs": [],
   "source": [
    "from pymongo import MongoClient\n",
    "\n",
    "# Connect to MongoDB (adjust the connection string as needed)\n",
    "client = MongoClient(\"mongodb://localhost:27017/\")  # Replace with your MongoDB URI\n",
    "db = client['movie_recommendation_system']  # Database name\n",
    "db = client['config']"
   ]
  },
  {
   "cell_type": "code",
   "execution_count": 3,
   "id": "96b33b5b-fc78-49a9-9118-3883aa8deeaf",
   "metadata": {},
   "outputs": [
    {
     "name": "stdout",
     "output_type": "stream",
     "text": [
      "Collections in the 'config' database: ['Users', 'system.sessions', 'Movies', 'Ratings']\n"
     ]
    }
   ],
   "source": [
    "# Access the 'config' database\n",
    "db = client['config']\n",
    "\n",
    "# List all collections in the 'config' database\n",
    "collections = db.list_collection_names()\n",
    "print(f\"Collections in the 'config' database: {collections}\")"
   ]
  },
  {
   "cell_type": "code",
   "execution_count": 5,
   "id": "af3fe78a-c70a-42ed-9bad-462467e9a8dc",
   "metadata": {},
   "outputs": [
    {
     "name": "stdout",
     "output_type": "stream",
     "text": [
      "Movies Collection Sample:\n",
      "{'_id': ObjectId('67a3388e651d35131c6e07c7'), 'movieId': 1, 'title': 'Toy Story (1995)', 'genres': \"Animation|Children's|Comedy\"}\n",
      "{'_id': ObjectId('67a3388e651d35131c6e07c8'), 'movieId': 2, 'title': 'Jumanji (1995)', 'genres': \"Adventure|Children's|Fantasy\"}\n",
      "{'_id': ObjectId('67a3388e651d35131c6e07c9'), 'movieId': 3, 'title': 'Grumpier Old Men (1995)', 'genres': 'Comedy|Romance'}\n",
      "{'_id': ObjectId('67a3388e651d35131c6e07ca'), 'movieId': 4, 'title': 'Waiting to Exhale (1995)', 'genres': 'Comedy|Drama'}\n",
      "{'_id': ObjectId('67a3388e651d35131c6e07cb'), 'movieId': 5, 'title': 'Father of the Bride Part II (1995)', 'genres': 'Comedy'}\n",
      "\n",
      "Ratings Collection Sample:\n",
      "{'_id': ObjectId('67a33899651d35131c6e16f2'), 'userId': 1, 'movieId': 1193, 'rating': 5, 'timestamp': 978300760}\n",
      "{'_id': ObjectId('67a33899651d35131c6e16f3'), 'userId': 1, 'movieId': 661, 'rating': 3, 'timestamp': 978302109}\n",
      "{'_id': ObjectId('67a33899651d35131c6e16f4'), 'userId': 1, 'movieId': 914, 'rating': 3, 'timestamp': 978301968}\n",
      "{'_id': ObjectId('67a33899651d35131c6e16f5'), 'userId': 1, 'movieId': 3408, 'rating': 4, 'timestamp': 978300275}\n",
      "{'_id': ObjectId('67a33899651d35131c6e16f6'), 'userId': 1, 'movieId': 2355, 'rating': 5, 'timestamp': 978824291}\n",
      "\n",
      "Users Collection Sample:\n",
      "{'_id': ObjectId('67a33bc3651d35131c7d5a04'), 'userId': 1, 'gender': 'F', 'age': 1, 'occupation': 10, 'zip': 48067}\n",
      "{'_id': ObjectId('67a33bc3651d35131c7d5a05'), 'userId': 2, 'gender': 'M', 'age': 56, 'occupation': 16, 'zip': 70072}\n",
      "{'_id': ObjectId('67a33bc3651d35131c7d5a06'), 'userId': 3, 'gender': 'M', 'age': 25, 'occupation': 15, 'zip': 55117}\n",
      "{'_id': ObjectId('67a33bc3651d35131c7d5a07'), 'userId': 4, 'gender': 'M', 'age': 45, 'occupation': 7, 'zip': 2460}\n",
      "{'_id': ObjectId('67a33bc3651d35131c7d5a08'), 'userId': 5, 'gender': 'M', 'age': 25, 'occupation': 20, 'zip': 55455}\n"
     ]
    }
   ],
   "source": [
    "# Fetch and display a sample from the 'Movies' collection\n",
    "movies_sample = db['Movies'].find().limit(5)\n",
    "print(\"Movies Collection Sample:\")\n",
    "for movie in movies_sample:\n",
    "    print(movie)\n",
    "\n",
    "# Fetch and display a sample from the 'Ratings' collection\n",
    "ratings_sample = db['Ratings'].find().limit(5)\n",
    "print(\"\\nRatings Collection Sample:\")\n",
    "for rating in ratings_sample:\n",
    "    print(rating)\n",
    "\n",
    "# Fetch and display a sample from the 'Users' collection\n",
    "users_sample = db['Users'].find().limit(5)\n",
    "print(\"\\nUsers Collection Sample:\")\n",
    "for user in users_sample:\n",
    "    print(user)"
   ]
  },
  {
   "cell_type": "code",
   "execution_count": 7,
   "id": "5a12f6a0-6313-4a8f-bfdd-be30f1a2a142",
   "metadata": {},
   "outputs": [
    {
     "name": "stdout",
     "output_type": "stream",
     "text": [
      "Movies Collection has 3883 documents.\n",
      "Ratings Collection has 1000209 documents.\n",
      "Users Collection has 6040 documents.\n"
     ]
    }
   ],
   "source": [
    "# Check the number of documents in each collection\n",
    "movies_count = db['Movies'].count_documents({})\n",
    "ratings_count = db['Ratings'].count_documents({})\n",
    "users_count = db['Users'].count_documents({})\n",
    "\n",
    "print(f\"Movies Collection has {movies_count} documents.\")\n",
    "print(f\"Ratings Collection has {ratings_count} documents.\")\n",
    "print(f\"Users Collection has {users_count} documents.\")"
   ]
  },
  {
   "cell_type": "code",
   "execution_count": 9,
   "id": "fc503dcd-63c8-4e73-a35c-d73cf959cfb9",
   "metadata": {},
   "outputs": [
    {
     "name": "stdout",
     "output_type": "stream",
     "text": [
      "                        _id  movieId                               title  \\\n",
      "0  67a3388e651d35131c6e07c7        1                    Toy Story (1995)   \n",
      "1  67a3388e651d35131c6e07c8        2                      Jumanji (1995)   \n",
      "2  67a3388e651d35131c6e07c9        3             Grumpier Old Men (1995)   \n",
      "3  67a3388e651d35131c6e07ca        4            Waiting to Exhale (1995)   \n",
      "4  67a3388e651d35131c6e07cb        5  Father of the Bride Part II (1995)   \n",
      "\n",
      "                         genres  \n",
      "0   Animation|Children's|Comedy  \n",
      "1  Adventure|Children's|Fantasy  \n",
      "2                Comedy|Romance  \n",
      "3                  Comedy|Drama  \n",
      "4                        Comedy  \n",
      "                        _id  userId  movieId  rating  timestamp\n",
      "0  67a33899651d35131c6e16f2       1     1193       5  978300760\n",
      "1  67a33899651d35131c6e16f3       1      661       3  978302109\n",
      "2  67a33899651d35131c6e16f4       1      914       3  978301968\n",
      "3  67a33899651d35131c6e16f5       1     3408       4  978300275\n",
      "4  67a33899651d35131c6e16f6       1     2355       5  978824291\n",
      "                        _id  userId gender  age  occupation    zip\n",
      "0  67a33bc3651d35131c7d5a04       1      F    1          10  48067\n",
      "1  67a33bc3651d35131c7d5a05       2      M   56          16  70072\n",
      "2  67a33bc3651d35131c7d5a06       3      M   25          15  55117\n",
      "3  67a33bc3651d35131c7d5a07       4      M   45           7   2460\n",
      "4  67a33bc3651d35131c7d5a08       5      M   25          20  55455\n"
     ]
    }
   ],
   "source": [
    "import pandas as pd\n",
    "\n",
    "# Fetch all data from collections\n",
    "movies_data = list(db['Movies'].find())\n",
    "ratings_data = list(db['Ratings'].find())\n",
    "users_data = list(db['Users'].find())\n",
    "\n",
    "# Convert to DataFrame for easier handling\n",
    "movies_df = pd.DataFrame(movies_data)\n",
    "ratings_df = pd.DataFrame(ratings_data)\n",
    "users_df = pd.DataFrame(users_data)\n",
    "\n",
    "# Check the structure of the data\n",
    "print(movies_df.head())\n",
    "print(ratings_df.head())\n",
    "print(users_df.head())"
   ]
  },
  {
   "cell_type": "code",
   "execution_count": 10,
   "id": "6916d850-a4fb-4c5c-86d4-41f53fb82787",
   "metadata": {},
   "outputs": [
    {
     "name": "stdout",
     "output_type": "stream",
     "text": [
      "Movie: Aladdin and the King of Thieves (1996), Similarity: 1.0\n",
      "Movie: American Tail, An (1986), Similarity: 1.0\n",
      "Movie: American Tail: Fievel Goes West, An (1991), Similarity: 1.0\n",
      "Movie: Rugrats Movie, The (1998), Similarity: 1.0\n",
      "Movie: Bug's Life, A (1998), Similarity: 1.0\n"
     ]
    }
   ],
   "source": [
    "from sklearn.feature_extraction.text import TfidfVectorizer\n",
    "from sklearn.metrics.pairwise import cosine_similarity\n",
    "\n",
    "# Preprocess the movie data (e.g., use the 'genres' column to create content features)\n",
    "tfidf = TfidfVectorizer(stop_words='english')\n",
    "tfidf_matrix = tfidf.fit_transform(movies_df['genres'])\n",
    "cosine_sim = cosine_similarity(tfidf_matrix, tfidf_matrix)\n",
    "\n",
    "# Compute the cosine similarity matrix\n",
    "cosine_sim = cosine_similarity(tfidf_matrix, tfidf_matrix)\n",
    "\n",
    "# Example: Get similar movies for a specific movieId (say, movieId = 1)\n",
    "movie_idx = movies_df[movies_df['movieId'] == 1].index[0]\n",
    "similarities = list(enumerate(cosine_sim[movie_idx]))\n",
    "\n",
    "# Sort the movies by similarity and get the top N most similar movies\n",
    "similar_movies = sorted(similarities, key=lambda x: x[1], reverse=True)[1:6]  # Top 5 similar movies\n",
    "for idx, sim in similar_movies:\n",
    "    print(f\"Movie: {movies_df['title'][idx]}, Similarity: {sim}\")"
   ]
  },
  {
   "cell_type": "code",
   "execution_count": 11,
   "id": "706be7bb-dbb7-4a48-a6c0-45eb5d74ba2f",
   "metadata": {},
   "outputs": [
    {
     "name": "stdout",
     "output_type": "stream",
     "text": [
      "   movieId                               title                        genres\n",
      "0        1                    Toy Story (1995)   Animation|Children's|Comedy\n",
      "1        2                      Jumanji (1995)  Adventure|Children's|Fantasy\n",
      "2        3             Grumpier Old Men (1995)                Comedy|Romance\n",
      "3        4            Waiting to Exhale (1995)                  Comedy|Drama\n",
      "4        5  Father of the Bride Part II (1995)                        Comedy\n",
      "   userId  movieId  rating  timestamp\n",
      "0       1     1193       5  978300760\n",
      "1       1      661       3  978302109\n",
      "2       1      914       3  978301968\n",
      "3       1     3408       4  978300275\n",
      "4       1     2355       5  978824291\n",
      "   userId gender  age  occupation    zip\n",
      "0       1      F    1          10  48067\n",
      "1       2      M   56          16  70072\n",
      "2       3      M   25          15  55117\n",
      "3       4      M   45           7  02460\n",
      "4       5      M   25          20  55455\n"
     ]
    }
   ],
   "source": [
    "import pandas as pd\n",
    "\n",
    "movies_df = pd.read_csv('movies.csv')\n",
    "ratings_df = pd.read_csv('ratings.csv')\n",
    "users_df = pd.read_csv('users.csv')\n",
    "\n",
    "print(movies_df.head())\n",
    "print(ratings_df.head())\n",
    "print(users_df.head())"
   ]
  },
  {
   "cell_type": "code",
   "execution_count": 15,
   "id": "3a4ba627-900b-4f8a-bc15-93f9363eaeb0",
   "metadata": {},
   "outputs": [
    {
     "name": "stdout",
     "output_type": "stream",
     "text": [
      "Index(['movieId', 'title', 'genres'], dtype='object')\n",
      "Index(['userId', 'movieId', 'rating', 'timestamp'], dtype='object')\n",
      "Index(['userId', 'gender', 'age', 'occupation', 'zip'], dtype='object')\n"
     ]
    }
   ],
   "source": [
    "print(movies_df.columns)  \n",
    "print(ratings_df.columns) \n",
    "print(users_df.columns)  "
   ]
  },
  {
   "cell_type": "code",
   "execution_count": 17,
   "id": "75c114d4-2fa3-460d-a70a-c0a6b142751e",
   "metadata": {},
   "outputs": [
    {
     "name": "stdout",
     "output_type": "stream",
     "text": [
      "(3883, 3)\n",
      "(1000209, 4)\n",
      "(6040, 5)\n"
     ]
    }
   ],
   "source": [
    "print(movies_df.shape)  \n",
    "print(ratings_df.shape)\n",
    "print(users_df.shape)"
   ]
  },
  {
   "cell_type": "code",
   "execution_count": 19,
   "id": "9f9af444-703f-43db-b3f4-cd12f7410301",
   "metadata": {},
   "outputs": [
    {
     "name": "stdout",
     "output_type": "stream",
     "text": [
      "   userId  movieId  rating  timestamp                                   title  \\\n",
      "0       1     1193       5  978300760  One Flew Over the Cuckoo's Nest (1975)   \n",
      "1       1      661       3  978302109        James and the Giant Peach (1996)   \n",
      "2       1      914       3  978301968                     My Fair Lady (1964)   \n",
      "3       1     3408       4  978300275                  Erin Brockovich (2000)   \n",
      "4       1     2355       5  978824291                    Bug's Life, A (1998)   \n",
      "\n",
      "                         genres gender  age  occupation    zip  \n",
      "0                         Drama      F    1          10  48067  \n",
      "1  Animation|Children's|Musical      F    1          10  48067  \n",
      "2               Musical|Romance      F    1          10  48067  \n",
      "3                         Drama      F    1          10  48067  \n",
      "4   Animation|Children's|Comedy      F    1          10  48067  \n"
     ]
    }
   ],
   "source": [
    "merged_df = ratings_df.merge(movies_df, on=\"movieId\", how=\"inner\").merge(users_df, on=\"userId\", how=\"inner\")\n",
    "print(merged_df.head())"
   ]
  },
  {
   "cell_type": "code",
   "execution_count": 21,
   "id": "2c1f53a3-c13f-4316-94ff-f23c5112254a",
   "metadata": {},
   "outputs": [
    {
     "name": "stdin",
     "output_type": "stream",
     "text": [
      "Enter movie name:  Jumanji\n"
     ]
    },
    {
     "name": "stdout",
     "output_type": "stream",
     "text": [
      "        userId  movieId  rating  timestamp           title  \\\n",
      "839         10        2       5  979168267  Jumanji (1995)   \n",
      "1367        13        2       3  978202563  Jumanji (1995)   \n",
      "1967        18        2       2  978152541  Jumanji (1995)   \n",
      "2871        23        2       2  978461604  Jumanji (1995)   \n",
      "3778        27        2       1  978129692  Jumanji (1995)   \n",
      "...        ...      ...     ...        ...             ...   \n",
      "993046    6000        2       3  956884937  Jumanji (1995)   \n",
      "993544    6001        2       3  956805460  Jumanji (1995)   \n",
      "994516    6006        2       2  957032380  Jumanji (1995)   \n",
      "996986    6019        2       4  956761170  Jumanji (1995)   \n",
      "998006    6030        2       4  956719238  Jumanji (1995)   \n",
      "\n",
      "                              genres gender  age  occupation    zip  \n",
      "839     Adventure|Children's|Fantasy      F   35           1  95370  \n",
      "1367    Adventure|Children's|Fantasy      M   45           1  93304  \n",
      "1967    Adventure|Children's|Fantasy      F   18           3  95825  \n",
      "2871    Adventure|Children's|Fantasy      M   35           0  90049  \n",
      "3778    Adventure|Children's|Fantasy      M   25          11  19130  \n",
      "...                              ...    ...  ...         ...    ...  \n",
      "993046  Adventure|Children's|Fantasy      M   45          17  30075  \n",
      "993544  Adventure|Children's|Fantasy      F   25           7  94117  \n",
      "994516  Adventure|Children's|Fantasy      F    1           0  01036  \n",
      "996986  Adventure|Children's|Fantasy      M   25           0  10024  \n",
      "998006  Adventure|Children's|Fantasy      M   25          17  32618  \n",
      "\n",
      "[701 rows x 10 columns]\n"
     ]
    }
   ],
   "source": [
    "def get_movie_details(movie_name, merged_df):\n",
    "    # Filter dataframe for the given movie name\n",
    "    movie_info = merged_df[merged_df['title'].str.contains(movie_name, case=False, na=False, regex=False)]\n",
    "    \n",
    "    if movie_info.empty:\n",
    "        return \"Movie not found!\"\n",
    "    \n",
    "    return movie_info  # Return all details\n",
    "\n",
    "# Example usage\n",
    "user_input = input(\"Enter movie name: \")\n",
    "result = get_movie_details(user_input, merged_df)\n",
    "print(result)"
   ]
  },
  {
   "cell_type": "code",
   "execution_count": null,
   "id": "ebabc0fd-43ac-4723-9125-ab9251cf4e11",
   "metadata": {},
   "outputs": [],
   "source": [
    "def get_movie_summary(movie_name, merged_df):\n",
    "    movie_info = merged_df[merged_df['title'].str.contains(movie_name, case=False, na=False, regex=False)]\n",
    "    \n",
    "    if movie_info.empty:\n",
    "        return \"Movie not found!\"\n",
    "    \n",
    "    # Aggregate details\n",
    "    summary = {\n",
    "        \"Movie ID\": movie_info[\"movieId\"].iloc[0],\n",
    "        \"Title\": movie_info[\"title\"].iloc[0],\n",
    "        \"Genres\": movie_info[\"genres\"].iloc[0],\n",
    "        \"Average Rating\": round(movie_info[\"rating\"].mean(), 2),\n",
    "        \"Total Ratings\": movie_info[\"rating\"].count(),\n",
    "        \"Most Common Age Group\": movie_info[\"age\"].mode()[0],\n",
    "        \"Most Common Occupation\": movie_info[\"occupation\"].mode()[0],\n",
    "    }\n",
    "    \n",
    "    return summary\n",
    "\n",
    "# Example usage\n",
    "user_input = input(\"Enter movie name: \")\n",
    "print(get_movie_summary(user_input, merged_df))"
   ]
  },
  {
   "cell_type": "code",
   "execution_count": 33,
   "id": "68c6d3b9-7b5e-4c55-8364-bf692586aba2",
   "metadata": {},
   "outputs": [
    {
     "name": "stdout",
     "output_type": "stream",
     "text": [
      "Found existing installation: kafka-python 2.0.2\n",
      "Uninstalling kafka-python-2.0.2:\n",
      "  Successfully uninstalled kafka-python-2.0.2\n",
      "Found existing installation: six 1.17.0\n",
      "Uninstalling six-1.17.0:\n",
      "  Successfully uninstalled six-1.17.0\n",
      "Note: you may need to restart the kernel to use updated packages.\n"
     ]
    }
   ],
   "source": [
    "pip uninstall kafka-python six --yes"
   ]
  },
  {
   "cell_type": "code",
   "execution_count": 37,
   "id": "3893f3c0-7fb0-4f22-90f3-cb866ac9c24f",
   "metadata": {},
   "outputs": [
    {
     "name": "stdout",
     "output_type": "stream",
     "text": [
      "Collecting six\n",
      "  Using cached six-1.17.0-py2.py3-none-any.whl.metadata (1.7 kB)\n",
      "Using cached six-1.17.0-py2.py3-none-any.whl (11 kB)\n",
      "Installing collected packages: six\n",
      "Successfully installed six-1.17.0\n",
      "Collecting kafka-python==1.4.7\n",
      "  Using cached kafka_python-1.4.7-py2.py3-none-any.whl.metadata (7.6 kB)\n",
      "Using cached kafka_python-1.4.7-py2.py3-none-any.whl (266 kB)\n",
      "Installing collected packages: kafka-python\n",
      "Successfully installed kafka-python-1.4.7\n"
     ]
    }
   ],
   "source": [
    "!pip install six\n",
    "!pip install kafka-python==1.4.7"
   ]
  },
  {
   "cell_type": "code",
   "execution_count": 41,
   "id": "a2095a46-9bec-4027-984c-8b3dbcbbb321",
   "metadata": {},
   "outputs": [
    {
     "name": "stdout",
     "output_type": "stream",
     "text": [
      "Collecting confluent-kafka\n",
      "  Downloading confluent_kafka-2.8.0-cp312-cp312-win_amd64.whl.metadata (22 kB)\n",
      "Downloading confluent_kafka-2.8.0-cp312-cp312-win_amd64.whl (4.0 MB)\n",
      "   ---------------------------------------- 0.0/4.0 MB ? eta -:--:--\n",
      "   ---------------------------------------- 0.0/4.0 MB ? eta -:--:--\n",
      "   ---------------------------------------- 0.0/4.0 MB 660.6 kB/s eta 0:00:06\n",
      "    --------------------------------------- 0.1/4.0 MB 544.7 kB/s eta 0:00:08\n",
      "    --------------------------------------- 0.1/4.0 MB 655.4 kB/s eta 0:00:06\n",
      "    --------------------------------------- 0.1/4.0 MB 655.4 kB/s eta 0:00:06\n",
      "   - -------------------------------------- 0.2/4.0 MB 573.4 kB/s eta 0:00:07\n",
      "   -- ------------------------------------- 0.2/4.0 MB 724.0 kB/s eta 0:00:06\n",
      "   -- ------------------------------------- 0.3/4.0 MB 749.3 kB/s eta 0:00:05\n",
      "   --- ------------------------------------ 0.3/4.0 MB 791.9 kB/s eta 0:00:05\n",
      "   --- ------------------------------------ 0.3/4.0 MB 800.8 kB/s eta 0:00:05\n",
      "   --- ------------------------------------ 0.4/4.0 MB 865.0 kB/s eta 0:00:05\n",
      "   ---- ----------------------------------- 0.4/4.0 MB 771.4 kB/s eta 0:00:05\n",
      "   ----- ---------------------------------- 0.5/4.0 MB 944.9 kB/s eta 0:00:04\n",
      "   ----- ---------------------------------- 0.6/4.0 MB 868.4 kB/s eta 0:00:04\n",
      "   ----- ---------------------------------- 0.6/4.0 MB 862.7 kB/s eta 0:00:04\n",
      "   ------ --------------------------------- 0.7/4.0 MB 932.2 kB/s eta 0:00:04\n",
      "   ------- -------------------------------- 0.7/4.0 MB 955.7 kB/s eta 0:00:04\n",
      "   ------- -------------------------------- 0.8/4.0 MB 963.6 kB/s eta 0:00:04\n",
      "   -------- ------------------------------- 0.9/4.0 MB 1.0 MB/s eta 0:00:03\n",
      "   --------- ------------------------------ 0.9/4.0 MB 1.0 MB/s eta 0:00:03\n",
      "   --------- ------------------------------ 1.0/4.0 MB 1.0 MB/s eta 0:00:03\n",
      "   ---------- ----------------------------- 1.1/4.0 MB 1.1 MB/s eta 0:00:03\n",
      "   ----------- ---------------------------- 1.1/4.0 MB 1.1 MB/s eta 0:00:03\n",
      "   ----------- ---------------------------- 1.2/4.0 MB 1.1 MB/s eta 0:00:03\n",
      "   ------------ --------------------------- 1.2/4.0 MB 1.1 MB/s eta 0:00:03\n",
      "   ------------- -------------------------- 1.3/4.0 MB 1.1 MB/s eta 0:00:03\n",
      "   ------------- -------------------------- 1.4/4.0 MB 1.1 MB/s eta 0:00:03\n",
      "   -------------- ------------------------- 1.5/4.0 MB 1.1 MB/s eta 0:00:03\n",
      "   --------------- ------------------------ 1.5/4.0 MB 1.2 MB/s eta 0:00:03\n",
      "   --------------- ------------------------ 1.6/4.0 MB 1.2 MB/s eta 0:00:03\n",
      "   ---------------- ----------------------- 1.6/4.0 MB 1.2 MB/s eta 0:00:03\n",
      "   ---------------- ----------------------- 1.7/4.0 MB 1.2 MB/s eta 0:00:02\n",
      "   ----------------- ---------------------- 1.7/4.0 MB 1.1 MB/s eta 0:00:02\n",
      "   ----------------- ---------------------- 1.8/4.0 MB 1.1 MB/s eta 0:00:02\n",
      "   ------------------ --------------------- 1.8/4.0 MB 1.1 MB/s eta 0:00:02\n",
      "   ------------------ --------------------- 1.9/4.0 MB 1.1 MB/s eta 0:00:02\n",
      "   ------------------- -------------------- 1.9/4.0 MB 1.1 MB/s eta 0:00:02\n",
      "   ------------------- -------------------- 1.9/4.0 MB 1.1 MB/s eta 0:00:02\n",
      "   ------------------- -------------------- 2.0/4.0 MB 1.1 MB/s eta 0:00:02\n",
      "   -------------------- ------------------- 2.0/4.0 MB 1.1 MB/s eta 0:00:02\n",
      "   -------------------- ------------------- 2.1/4.0 MB 1.1 MB/s eta 0:00:02\n",
      "   --------------------- ------------------ 2.1/4.0 MB 1.1 MB/s eta 0:00:02\n",
      "   --------------------- ------------------ 2.2/4.0 MB 1.1 MB/s eta 0:00:02\n",
      "   ---------------------- ----------------- 2.2/4.0 MB 1.1 MB/s eta 0:00:02\n",
      "   ---------------------- ----------------- 2.2/4.0 MB 1.1 MB/s eta 0:00:02\n",
      "   ----------------------- ---------------- 2.3/4.0 MB 1.1 MB/s eta 0:00:02\n",
      "   ----------------------- ---------------- 2.4/4.0 MB 1.1 MB/s eta 0:00:02\n",
      "   ----------------------- ---------------- 2.4/4.0 MB 1.1 MB/s eta 0:00:02\n",
      "   ----------------------- ---------------- 2.4/4.0 MB 1.1 MB/s eta 0:00:02\n",
      "   ------------------------- -------------- 2.6/4.0 MB 1.1 MB/s eta 0:00:02\n",
      "   -------------------------- ------------- 2.6/4.0 MB 1.1 MB/s eta 0:00:02\n",
      "   -------------------------- ------------- 2.6/4.0 MB 1.1 MB/s eta 0:00:02\n",
      "   --------------------------- ------------ 2.7/4.0 MB 1.1 MB/s eta 0:00:02\n",
      "   --------------------------- ------------ 2.8/4.0 MB 1.1 MB/s eta 0:00:02\n",
      "   ---------------------------- ----------- 2.9/4.0 MB 1.1 MB/s eta 0:00:01\n",
      "   ----------------------------- ---------- 3.0/4.0 MB 1.2 MB/s eta 0:00:01\n",
      "   ------------------------------ --------- 3.0/4.0 MB 1.2 MB/s eta 0:00:01\n",
      "   ------------------------------- -------- 3.1/4.0 MB 1.2 MB/s eta 0:00:01\n",
      "   ------------------------------- -------- 3.2/4.0 MB 1.2 MB/s eta 0:00:01\n",
      "   -------------------------------- ------- 3.2/4.0 MB 1.2 MB/s eta 0:00:01\n",
      "   --------------------------------- ------ 3.3/4.0 MB 1.2 MB/s eta 0:00:01\n",
      "   --------------------------------- ------ 3.3/4.0 MB 1.2 MB/s eta 0:00:01\n",
      "   ---------------------------------- ----- 3.4/4.0 MB 1.2 MB/s eta 0:00:01\n",
      "   ----------------------------------- ---- 3.5/4.0 MB 1.2 MB/s eta 0:00:01\n",
      "   ----------------------------------- ---- 3.5/4.0 MB 1.2 MB/s eta 0:00:01\n",
      "   ------------------------------------ --- 3.6/4.0 MB 1.2 MB/s eta 0:00:01\n",
      "   ------------------------------------- -- 3.7/4.0 MB 1.2 MB/s eta 0:00:01\n",
      "   ------------------------------------- -- 3.7/4.0 MB 1.2 MB/s eta 0:00:01\n",
      "   -------------------------------------- - 3.8/4.0 MB 1.2 MB/s eta 0:00:01\n",
      "   ---------------------------------------  3.9/4.0 MB 1.2 MB/s eta 0:00:01\n",
      "   ---------------------------------------  4.0/4.0 MB 1.2 MB/s eta 0:00:01\n",
      "   ---------------------------------------- 4.0/4.0 MB 1.2 MB/s eta 0:00:00\n",
      "Installing collected packages: confluent-kafka\n",
      "Successfully installed confluent-kafka-2.8.0\n",
      "Note: you may need to restart the kernel to use updated packages.\n"
     ]
    }
   ],
   "source": [
    "pip install confluent-kafka"
   ]
  },
  {
   "cell_type": "code",
   "execution_count": 43,
   "id": "3571bc0c-405d-41bd-8ddc-d881a54cb7d6",
   "metadata": {},
   "outputs": [],
   "source": [
    "from confluent_kafka import Producer"
   ]
  },
  {
   "cell_type": "code",
   "execution_count": 45,
   "id": "a7edb39e-9c16-48b4-9f64-3a0c8e57655a",
   "metadata": {},
   "outputs": [
    {
     "name": "stdout",
     "output_type": "stream",
     "text": [
      "Name: kafka-python\n",
      "Version: 1.4.7\n",
      "Summary: Pure Python client for Apache Kafka\n",
      "Home-page: https://github.com/dpkp/kafka-python\n",
      "Author: Dana Powers\n",
      "Author-email: dana.powers@gmail.com\n",
      "License: Apache License 2.0\n",
      "Location: C:\\Users\\user\\anaconda3\\Lib\\site-packages\n",
      "Requires: \n",
      "Required-by: \n",
      "Note: you may need to restart the kernel to use updated packages.\n"
     ]
    }
   ],
   "source": [
    "pip show kafka-python"
   ]
  },
  {
   "cell_type": "code",
   "execution_count": 63,
   "id": "b930357c-c476-429c-81cc-250a08b3baac",
   "metadata": {},
   "outputs": [
    {
     "name": "stdout",
     "output_type": "stream",
     "text": [
      "Message delivered to ratings_topic [0]\n"
     ]
    },
    {
     "data": {
      "text/plain": [
       "0"
      ]
     },
     "execution_count": 63,
     "metadata": {},
     "output_type": "execute_result"
    }
   ],
   "source": [
    "from confluent_kafka import Producer\n",
    "\n",
    "# Kafka configuration\n",
    "conf = {'bootstrap.servers': 'localhost:9092'}  # Change this to your Kafka server\n",
    "\n",
    "# Create a Kafka producer\n",
    "producer = Producer(conf)\n",
    "\n",
    "# Define a delivery callback (optional)\n",
    "def delivery_callback(err, msg):\n",
    "    if err:\n",
    "        print(f\"Message failed: {err}\")\n",
    "    else:\n",
    "        print(f\"Message delivered to {msg.topic()} [{msg.partition()}]\")\n",
    "\n",
    "# Produce a message\n",
    "producer.produce('ratings_topic', key='user123', value='{\"userId\": 123, \"movieId\": 50, \"rating\": 4.5}', callback=delivery_callback)\n",
    "\n",
    "# Wait for all messages to be delivered\n",
    "producer.flush()"
   ]
  },
  {
   "cell_type": "code",
   "execution_count": null,
   "id": "887ff4d9-c93a-4f99-980c-355d5024bce9",
   "metadata": {},
   "outputs": [
    {
     "name": "stdout",
     "output_type": "stream",
     "text": [
      "Received message: Hello Kafka!\n",
      "Received message: {\"userId\": 123, \"movieId\": 50, \"rating\": 4.5}\n",
      "Received message: {\"userId\": 123, \"movieId\": 50, \"rating\": 4.5}\n"
     ]
    }
   ],
   "source": [
    "from confluent_kafka import Consumer\n",
    "\n",
    "# Kafka consumer configuration\n",
    "conf = {\n",
    "    'bootstrap.servers': 'localhost:9092',\n",
    "    'group.id': 'movie-recommendation-group',\n",
    "    'auto.offset.reset': 'earliest'\n",
    "}\n",
    "\n",
    "# Create Kafka consumer\n",
    "consumer = Consumer(conf)\n",
    "consumer.subscribe(['ratings_topic'])\n",
    "\n",
    "# Read messages\n",
    "while True:\n",
    "    msg = consumer.poll(1.0)  # Wait up to 1 second for a message\n",
    "    if msg is None:\n",
    "        continue\n",
    "    if msg.error():\n",
    "        print(f\"Consumer error: {msg.error()}\")\n",
    "        continue\n",
    "\n",
    "    print(f\"Received message: {msg.value().decode('utf-8')}\")\n",
    "\n",
    "consumer.close()"
   ]
  },
  {
   "cell_type": "code",
   "execution_count": 61,
   "id": "ac98aa1a-f089-46ec-a395-b4b3e6b264cd",
   "metadata": {},
   "outputs": [
    {
     "name": "stdout",
     "output_type": "stream",
     "text": [
      "Message sent!\n"
     ]
    }
   ],
   "source": [
    "from confluent_kafka import Producer\n",
    "\n",
    "conf = {'bootstrap.servers': 'localhost:9092'}\n",
    "\n",
    "producer = Producer(conf)\n",
    "producer.produce('ratings_topic', value='{\"userId\": 123, \"movieId\": 50, \"rating\": 4.5}')\n",
    "producer.flush()\n",
    "\n",
    "print(\"Message sent!\")"
   ]
  },
  {
   "cell_type": "code",
   "execution_count": null,
   "id": "f72ca5d8-bc23-41ca-9ad1-3a41fe83f79c",
   "metadata": {},
   "outputs": [],
   "source": [
    "from confluent_kafka.admin import AdminClient\n",
    "\n",
    "admin_client = AdminClient({\"bootstrap.servers\": \"localhost:9092\"})\n",
    "print(admin_client.list_topics().topics)"
   ]
  },
  {
   "cell_type": "code",
   "execution_count": null,
   "id": "2955cc0b-9a19-42cb-95c7-a61d2927bd3b",
   "metadata": {},
   "outputs": [],
   "source": []
  }
 ],
 "metadata": {
  "kernelspec": {
   "display_name": "Python 3 (ipykernel)",
   "language": "python",
   "name": "python3"
  },
  "language_info": {
   "codemirror_mode": {
    "name": "ipython",
    "version": 3
   },
   "file_extension": ".py",
   "mimetype": "text/x-python",
   "name": "python",
   "nbconvert_exporter": "python",
   "pygments_lexer": "ipython3",
   "version": "3.12.4"
  }
 },
 "nbformat": 4,
 "nbformat_minor": 5
}
